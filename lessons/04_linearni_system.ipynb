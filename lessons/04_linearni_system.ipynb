{
 "cells": [
  {
   "cell_type": "markdown",
   "metadata": {},
   "source": [
    "# Lineární hyperbolický systém PDR 1. řádu\n",
    "\n",
    "**Definice:**\n",
    "Systém PDR ve tvaru $U_t + A U_x = 0$, kde $U: \\mathbb R\\times\\mathbb R_+ \\to \\mathbb R^l$ a $A \\in \\mathbb R^{l,l}$ nazveme *hyperbolickým* právě tehdy, když matice $A$ má $l$ reálných vlastních čísel a $l$ lineárně nezávislých vlastních vektorů.\n",
    "\n"
   ]
  },
  {
   "cell_type": "markdown",
   "metadata": {},
   "source": [
    "## Charakteristické proměnné\n",
    "\n",
    "Splňuje-li $A$ výše uvedené podmínky, je možné ji rozložit na součin\n",
    "$$\n",
    "    A = R \\Lambda R^{-1},\n",
    "$$\n",
    "kde $\\Lambda=diag(\\lambda_1, \\lambda_2, ..., \\lambda_l)$ je diagonální matice a $R$ obsahuje ve sloupcích příslušné vlastní vektory, tj. $R=[\\vec{r}_1, \\vec{r}_2, ..., \\vec{r}_l]$. \n",
    "\n",
    "Systém pak lze přepsat jako\n",
    "$$\n",
    "U_t + R \\Lambda R^{-1} U_x = 0\n",
    "$$\n",
    "a po vynásobení maticí $R^{-1}$ zleva dostáváme\n",
    "$$\n",
    "R^{-1} U_t + R^{-1} R \\Lambda R^{-1} U_x = (R^{-1} U)_t + E \\Lambda (R^{-1} U)_x = 0.\n",
    "$$\n",
    "\n",
    "Označíme-li $V = R^{-1} U$, je původní systém ekvivalentní systému $l$ nezávislých rovnic \n",
    "$$\n",
    "    V_t + \\Lambda V_x = 0\n",
    "$$\n",
    "což je po složkách\n",
    "$$\n",
    "    \\frac{\\partial v_k}{\\partial t} + \\lambda_k \\frac{\\partial v_k}{\\partial x} = 0.\n",
    "$$\n",
    "\n",
    "**Definice:** Mějme hyperbolický systém $U_t + A U_x = 0$. Proměnné $V = R^{-1} U$, kde $R$ je matice složená z vlastních vektorů matice $A$, nazveme *cahrakteristickými proměnnými*."
   ]
  },
  {
   "cell_type": "markdown",
   "metadata": {},
   "source": [
    "## Počáteční úloha pro lineární hyperbolický systém\n",
    "\n",
    "**Definice:** Je dán hyperbolický systém $U_t + A U_x=0$ a vektorová funkce $U_0 \\in C^1(\\mathbb R \\to \\mathbb R^l)$ (počáteční podmínka). Počáteční úlohou pro tento systém s danou počáteční podmínkou budeme rozumět nalezení takové funkce $U \\in C^1( \\mathbb R\\times\\mathbb R_+ \\to \\mathbb R^l)$, že $\\forall x \\in \\mathbb R$ a $\\forall t > 0$ funkce $U$ vyhovuje danému systému a pro $t=0$ je $U(x,0)=u_0(x)$.\n",
    "\n",
    "*Poznámka:* pro případ nespojité počáteční podmínky je třeba přejít ke slabému řešení.\n",
    "\n",
    "Pro skalární problém  $v_t + \\lambda v_x=0$ umíme pomocí metody charakteristik určit řešení jako $v(x,t) = v_0(x - \\lambda t)$. Proto lze (v charakteristických proměnných) zapsat řešení počáteční úlohy jako\n",
    "$$\n",
    "    v_k(x,t) = v_k^0(x-\\lambda_k t),\n",
    "$$\n",
    "kde $v_k^0$ je $k$-tá zložka vektoru $V^ = R^{-1} U_0$ a v původních $U$ je to tedy\n",
    "$$\n",
    "    U(x,t) = \\sum_{k=1}^l \\vec{r}_k v_k(x,t) = \\sum_{k=1}^l \\vec{r}_k v_k^0(x - \\lambda_k t).\n",
    "$$\n"
   ]
  },
  {
   "cell_type": "markdown",
   "metadata": {},
   "source": [
    "## Příklad: linearizovaný systém Eulerových rovnic v 1D\n",
    "\n",
    "Nelineární systém Eulerových rovnic v 1D lze zapsat jako\n",
    "\\begin{align*}\n",
    " \\rho_t + (\\rho u)_x &= 0, \\\\\n",
    " (\\rho u)_t + (\\rho u^2 + p)_x &= 0, \\\\\n",
    " (\\rho E)_t + [(\\rho E + p) u]_x &= 0,\n",
    "\\end{align*}\n",
    "kde $\\rho$ je hustota, $u$ je rychlost, $p$ je tlak a $E$ je celková energie vztažená na kg. Pro ideální plyn je ze stavové rovnice\n",
    "$\n",
    "    p = (\\gamma-1)(\\rho E - \\frac{1}{2} \\rho u^2).\n",
    "$\n",
    "\n",
    "Předpokládáme-li, že všechny valičiny mají spojité derivace, lze systém převést na tvar\n",
    "\\begin{align*}\n",
    " \\rho_t + (\\rho u)_x &= 0, \\\\\n",
    " u_t + u u_x + \\frac{1}{\\rho} p_x &= 0, \\\\\n",
    " p_t + u p_x + \\gamma p u_x &= 0.\n",
    "\\end{align*}\n",
    "\n",
    "Systém linearizujeme ($\\rho(x,t) = \\bar{\\rho} + \\rho'(x,t)$, podobně pro $u$ a $p$) a dostáváme\n",
    "\\begin{align*}\n",
    " \\rho_t + \\bar{u} \\rho_x + \\bar{\\rho} u_x &= 0, \\\\\n",
    " u_t + \\bar{u} u_x + \\frac{1}{\\bar\\rho} p_x &= 0, \\\\\n",
    " p_t + \\gamma \\bar{p} u_x + \\bar{u} p_x &= 0.\n",
    "\\end{align*}\n",
    "\n",
    "Označme $U=[\\rho, u, p]$. Potom dostáváme systém $U_t + A U_x = 0$ s maticí\n",
    "$$\n",
    "A = \\begin{pmatrix}\n",
    "\\bar{u} & \\bar{\\rho} & 0 \\\\\n",
    "0 & \\bar{u} & 1/\\bar{\\rho} \\\\\n",
    "0 & \\gamma \\bar{p} & \\bar{u}\n",
    "\\end{pmatrix}.\n",
    "$$\n"
   ]
  },
  {
   "cell_type": "code",
   "execution_count": 1,
   "metadata": {},
   "outputs": [],
   "source": [
    "using SymPy"
   ]
  },
  {
   "cell_type": "code",
   "execution_count": 2,
   "metadata": {},
   "outputs": [],
   "source": [
    "rhoBar, pBar, aBar, gamma = symbols(\"rhoBar,pBar,aBar,gamma\", positive=true)\n",
    "uBar = symbols(\"uBar\");"
   ]
  },
  {
   "cell_type": "code",
   "execution_count": 3,
   "metadata": {},
   "outputs": [
    {
     "data": {
      "text/latex": [
       "\\begin{bmatrix}\\bar{u}&\\bar{\\rho}&0\\\\0&\\bar{u}&\\frac{1}{\\bar{\\rho}}\\\\0&\\gamma \\bar{p}&\\bar{u}\\end{bmatrix}"
      ],
      "text/plain": [
       "3×3 Array{Sym,2}:\n",
       " uBar      rhoBar         0\n",
       "    0        uBar  1/rhoBar\n",
       "    0  gamma*pBar      uBar"
      ]
     },
     "execution_count": 3,
     "metadata": {},
     "output_type": "execute_result"
    }
   ],
   "source": [
    "A = [uBar rhoBar 0; 0 uBar 1/rhoBar; 0 gamma*pBar uBar]"
   ]
  },
  {
   "cell_type": "code",
   "execution_count": 4,
   "metadata": {},
   "outputs": [],
   "source": [
    "using LinearAlgebra"
   ]
  },
  {
   "cell_type": "code",
   "execution_count": 5,
   "metadata": {},
   "outputs": [
    {
     "data": {
      "text/plain": [
       "3-element Array{Tuple{Sym,Int64,Array{Array{Sym,1},1}},1}:\n",
       " (uBar, 1, [[1, 0, 0]])                                                                                                                                                                                                                                            \n",
       " (-(sqrt(gamma)*sqrt(pBar) - sqrt(rhoBar)*uBar)/sqrt(rhoBar), 1, [[rhoBar^(3/2)*(uBar + (sqrt(gamma)*sqrt(pBar) - sqrt(rhoBar)*uBar)/sqrt(rhoBar))/(gamma^(3/2)*pBar^(3/2)), -(uBar + (sqrt(gamma)*sqrt(pBar) - sqrt(rhoBar)*uBar)/sqrt(rhoBar))/(gamma*pBar), 1]])\n",
       " ((sqrt(gamma)*sqrt(pBar) + sqrt(rhoBar)*uBar)/sqrt(rhoBar), 1, [[-rhoBar^(3/2)*(uBar - (sqrt(gamma)*sqrt(pBar) + sqrt(rhoBar)*uBar)/sqrt(rhoBar))/(gamma^(3/2)*pBar^(3/2)), -(uBar - (sqrt(gamma)*sqrt(pBar) + sqrt(rhoBar)*uBar)/sqrt(rhoBar))/(gamma*pBar), 1]])"
      ]
     },
     "execution_count": 5,
     "metadata": {},
     "output_type": "execute_result"
    }
   ],
   "source": [
    "eig = call_matrix_meth(A,:eigenvects)"
   ]
  },
  {
   "cell_type": "code",
   "execution_count": 6,
   "metadata": {},
   "outputs": [
    {
     "data": {
      "text/latex": [
       "\\begin{bmatrix}\\bar{u}\\\\- \\bar{a} + \\bar{u}\\\\\\bar{a} + \\bar{u}\\end{bmatrix}"
      ],
      "text/plain": [
       "3-element Array{Sym,1}:\n",
       "         uBar\n",
       " -aBar + uBar\n",
       "  aBar + uBar"
      ]
     },
     "execution_count": 6,
     "metadata": {},
     "output_type": "execute_result"
    }
   ],
   "source": [
    "lambda = [simplify(subs(eig[i][1], gamma, rhoBar*aBar^2/pBar)) for i=1:3]"
   ]
  },
  {
   "cell_type": "code",
   "execution_count": 7,
   "metadata": {},
   "outputs": [
    {
     "data": {
      "text/latex": [
       "\\begin{bmatrix}1&\\frac{\\bar{\\rho}^{\\frac{3}{2}} \\left(\\bar{u} + \\frac{\\sqrt{\\gamma} \\sqrt{\\bar{p}} - \\sqrt{\\bar{\\rho}} \\bar{u}}{\\sqrt{\\bar{\\rho}}}\\right)}{\\gamma^{\\frac{3}{2}} \\bar{p}^{\\frac{3}{2}}}&- \\frac{\\bar{\\rho}^{\\frac{3}{2}} \\left(\\bar{u} - \\frac{\\sqrt{\\gamma} \\sqrt{\\bar{p}} + \\sqrt{\\bar{\\rho}} \\bar{u}}{\\sqrt{\\bar{\\rho}}}\\right)}{\\gamma^{\\frac{3}{2}} \\bar{p}^{\\frac{3}{2}}}\\\\0&- \\frac{\\bar{u} + \\frac{\\sqrt{\\gamma} \\sqrt{\\bar{p}} - \\sqrt{\\bar{\\rho}} \\bar{u}}{\\sqrt{\\bar{\\rho}}}}{\\gamma \\bar{p}}&- \\frac{\\bar{u} - \\frac{\\sqrt{\\gamma} \\sqrt{\\bar{p}} + \\sqrt{\\bar{\\rho}} \\bar{u}}{\\sqrt{\\bar{\\rho}}}}{\\gamma \\bar{p}}\\\\0&1&1\\end{bmatrix}"
      ],
      "text/plain": [
       "3×3 Array{Sym,2}:\n",
       " 1  …  -rhoBar^(3/2)*(uBar - (sqrt(gamma)*sqrt(pBar) + sqrt(rhoBar)*uBar)/sqrt(rhoBar))/(gamma^(3/2)*pBar^(3/2))\n",
       " 0                              -(uBar - (sqrt(gamma)*sqrt(pBar) + sqrt(rhoBar)*uBar)/sqrt(rhoBar))/(gamma*pBar)\n",
       " 0                                                                                                             1"
      ]
     },
     "execution_count": 7,
     "metadata": {},
     "output_type": "execute_result"
    }
   ],
   "source": [
    "R=[eig[1][3][1] eig[2][3][1] eig[3][3][1]] "
   ]
  },
  {
   "cell_type": "code",
   "execution_count": 8,
   "metadata": {},
   "outputs": [
    {
     "data": {
      "text/latex": [
       "\\begin{bmatrix}1&\\frac{1}{2 \\bar{a}^{2}}&\\frac{1}{2 \\bar{a}^{2}}\\\\0&- \\frac{1}{2 \\bar{a} \\bar{\\rho}}&\\frac{1}{2 \\bar{a} \\bar{\\rho}}\\\\0&\\frac{1}{2}&\\frac{1}{2}\\end{bmatrix}"
      ],
      "text/plain": [
       "3×3 Array{Sym,2}:\n",
       " 1        1/(2*aBar^2)       1/(2*aBar^2)\n",
       " 0  -1/(2*aBar*rhoBar)  1/(2*aBar*rhoBar)\n",
       " 0                 1/2                1/2"
      ]
     },
     "execution_count": 8,
     "metadata": {},
     "output_type": "execute_result"
    }
   ],
   "source": [
    "for i=1:3,j=1:3\n",
    "    R[i,j] = simplify(subs(R[i,j], gamma, rhoBar*aBar^2/pBar))\n",
    "    if j>1\n",
    "        R[i,j] /= 2\n",
    "    end\n",
    "end\n",
    "R"
   ]
  },
  {
   "cell_type": "code",
   "execution_count": 9,
   "metadata": {},
   "outputs": [
    {
     "data": {
      "text/latex": [
       "\\begin{bmatrix}1&0&- \\frac{1}{\\bar{a}^{2}}\\\\0&- \\bar{a} \\bar{\\rho}&1\\\\0&\\bar{a} \\bar{\\rho}&1\\end{bmatrix}"
      ],
      "text/plain": [
       "3×3 Array{Sym,2}:\n",
       " 1             0  -1/aBar^2\n",
       " 0  -aBar*rhoBar          1\n",
       " 0   aBar*rhoBar          1"
      ]
     },
     "execution_count": 9,
     "metadata": {},
     "output_type": "execute_result"
    }
   ],
   "source": [
    "R1 = inv(R)"
   ]
  },
  {
   "cell_type": "code",
   "execution_count": 10,
   "metadata": {},
   "outputs": [
    {
     "data": {
      "text/plain": [
       "(rho, u, p)"
      ]
     },
     "execution_count": 10,
     "metadata": {},
     "output_type": "execute_result"
    }
   ],
   "source": [
    "rho, u, p = symbols(\"rho u p\")"
   ]
  },
  {
   "cell_type": "code",
   "execution_count": 11,
   "metadata": {},
   "outputs": [
    {
     "data": {
      "text/latex": [
       "\\begin{bmatrix}\\rho\\\\u\\\\p\\end{bmatrix}"
      ],
      "text/plain": [
       "3-element Array{Sym,1}:\n",
       " rho\n",
       "   u\n",
       "   p"
      ]
     },
     "execution_count": 11,
     "metadata": {},
     "output_type": "execute_result"
    }
   ],
   "source": [
    "U=[rho; u; p]"
   ]
  },
  {
   "cell_type": "code",
   "execution_count": 12,
   "metadata": {},
   "outputs": [
    {
     "data": {
      "text/latex": [
       "\\begin{bmatrix}\\rho - \\frac{p}{\\bar{a}^{2}}\\\\- \\bar{a} \\bar{\\rho} u + p\\\\\\bar{a} \\bar{\\rho} u + p\\end{bmatrix}"
      ],
      "text/plain": [
       "3-element Array{Sym,1}:\n",
       "     rho - p/aBar^2\n",
       " -aBar*rhoBar*u + p\n",
       "  aBar*rhoBar*u + p"
      ]
     },
     "execution_count": 12,
     "metadata": {},
     "output_type": "execute_result"
    }
   ],
   "source": [
    "V = R1 * U\n",
    "V"
   ]
  },
  {
   "cell_type": "markdown",
   "metadata": {},
   "source": [
    "#### Šíření poruchy pro případ linearizovaných Eulerových rovnic\n",
    "\n",
    "* analytické rešení"
   ]
  },
  {
   "cell_type": "code",
   "execution_count": 13,
   "metadata": {},
   "outputs": [],
   "source": [
    "using PyPlot"
   ]
  },
  {
   "cell_type": "code",
   "execution_count": 14,
   "metadata": {},
   "outputs": [
    {
     "data": {
      "image/png": "[encoded data removed]",
      "text/plain": [
       "Figure(PyObject <Figure size 640x480 with 1 Axes>)"
      ]
     },
     "metadata": {},
     "output_type": "display_data"
    }
   ],
   "source": [
    "# Hodnoty velicin v nerozrusenem proudu\n",
    "rho0   = 1.2\n",
    "a0     = 340.0\n",
    "u0     = 100.0\n",
    "gamma0 = 1.4\n",
    "p0  = rho0 * a0^2 / gamma0\n",
    "\n",
    "function U0(x)\n",
    "    U = [rho0; u0; p0]\n",
    "    if abs(x) < PI\n",
    "        U[3] += (cos(x)+1) * 0.1*p0\n",
    "    end\n",
    "    return U\n",
    "end\n",
    "\n",
    "x=range(-20, stop=20, length=200)\n",
    "\n",
    "plot(x, [U0(xi)[1]/rho0  for xi in x], label=\"ρ/ρ₀\")\n",
    "plot(x, [U0(xi)[2]/u0 for xi in x], label=\"$u/u₀\")\n",
    "plot(x, [U0(xi)[3]/p0 for xi in x], label=\"p/p₀\")\n",
    "ylim(0,2); xlabel(\"x\");\n",
    "ylabel(\"U\")\n",
    "legend(loc=\"lower left\");"
   ]
  },
  {
   "cell_type": "code",
   "execution_count": 15,
   "metadata": {},
   "outputs": [
    {
     "data": {
      "text/latex": [
       "\\begin{bmatrix}1&4.32525951557093 \\cdot 10^{-6}&4.32525951557093 \\cdot 10^{-6}\\\\0&-0.00122549019607843&0.00122549019607843\\\\0&\\frac{1}{2}&\\frac{1}{2}\\end{bmatrix}"
      ],
      "text/plain": [
       "3×3 Array{Sym,2}:\n",
       " 1   4.32525951557093e-6  4.32525951557093e-6\n",
       " 0  -0.00122549019607843  0.00122549019607843\n",
       " 0                   1/2                  1/2"
      ]
     },
     "execution_count": 15,
     "metadata": {},
     "output_type": "execute_result"
    }
   ],
   "source": [
    "R0 = [subs(subs(R[i,j], rhoBar, rho0), aBar, a0) for i=1:3,j=1:3]"
   ]
  },
  {
   "cell_type": "code",
   "execution_count": 16,
   "metadata": {},
   "outputs": [
    {
     "data": {
      "text/latex": [
       "\\begin{bmatrix}1&0&-8.65051903114187 \\cdot 10^{-6}\\\\0&-408.0&1\\\\0&408.0&1\\end{bmatrix}"
      ],
      "text/plain": [
       "3×3 Array{Sym,2}:\n",
       " 1                  0  -8.65051903114187e-6\n",
       " 0  -408.000000000000                     1\n",
       " 0   408.000000000000                     1"
      ]
     },
     "execution_count": 16,
     "metadata": {},
     "output_type": "execute_result"
    }
   ],
   "source": [
    "R01 = [subs(subs(R1[i,j], rhoBar, rho0), aBar, a0) for i=1:3,j=1:3]"
   ]
  },
  {
   "cell_type": "code",
   "execution_count": 17,
   "metadata": {},
   "outputs": [
    {
     "data": {
      "text/latex": [
       "\\begin{bmatrix}1&0&0\\\\0&1.0&0\\\\0&0&1\\end{bmatrix}"
      ],
      "text/plain": [
       "3×3 Array{Sym,2}:\n",
       " 1                 0  0\n",
       " 0  1.00000000000000  0\n",
       " 0                 0  1"
      ]
     },
     "execution_count": 17,
     "metadata": {},
     "output_type": "execute_result"
    }
   ],
   "source": [
    "R0*R01"
   ]
  },
  {
   "cell_type": "code",
   "execution_count": 18,
   "metadata": {},
   "outputs": [
    {
     "data": {
      "text/latex": [
       "\\begin{bmatrix}100.0\\\\-240.0\\\\440.0\\end{bmatrix}"
      ],
      "text/plain": [
       "3-element Array{Sym,1}:\n",
       "  100.000000000000\n",
       " -240.000000000000\n",
       "  440.000000000000"
      ]
     },
     "execution_count": 18,
     "metadata": {},
     "output_type": "execute_result"
    }
   ],
   "source": [
    "lambda0 = [subs(subs(l, uBar, u0), aBar, a0) for l in lambda]"
   ]
  },
  {
   "cell_type": "code",
   "execution_count": 19,
   "metadata": {},
   "outputs": [],
   "source": [
    "V0(x) = R01*U0(x);"
   ]
  },
  {
   "cell_type": "code",
   "execution_count": 20,
   "metadata": {},
   "outputs": [
    {
     "data": {
      "image/png": "[encoded data removed]",
      "text/plain": [
       "Figure(PyObject <Figure size 640x480 with 1 Axes>)"
      ]
     },
     "metadata": {},
     "output_type": "display_data"
    }
   ],
   "source": [
    "plot(x, [V0(xi)[1]  for xi in x], \"-b\", label=\"v₁\")\n",
    "plot(x, [V0(xi)[2]/1e5  for xi in x], \"-r\", label=\"v₂\")\n",
    "plot(x, [V0(xi)[3]/1e5  for xi in x], \"-g\", label=\"v₃\")\n",
    "ylim(0,2)\n",
    "xlabel(\"x\"); ylabel(\"V\");\n",
    "legend(loc=\"upper left\");"
   ]
  },
  {
   "cell_type": "code",
   "execution_count": 21,
   "metadata": {},
   "outputs": [
    {
     "data": {
      "image/png": "[encoded data removed]",
      "text/plain": [
       "Figure(PyObject <Figure size 640x480 with 1 Axes>)"
      ]
     },
     "metadata": {},
     "output_type": "display_data"
    }
   ],
   "source": [
    "Vt(x,t) = [V0(x-lambda0[1]*t)[1]; V0(x-lambda0[2]*t)[2]; V0(x-lambda0[3]*t)[3]]\n",
    "\n",
    "t=0.025\n",
    "\n",
    "plot(x, [Vt(xi,t)[1]  for xi in x], \"-b\", label=\"v₁\")\n",
    "plot(x, [Vt(xi,t)[2]/1e5  for xi in x], \"-r\", label=\"v₂\")\n",
    "plot(x, [Vt(xi,t)[3]/1e5  for xi in x], \"-g\", label=\"v₃\")\n",
    "ylim(0,2); grid(true)\n",
    "xlabel(\"x\"); ylabel(\"V\");\n",
    "legend(loc=\"upper left\");"
   ]
  },
  {
   "cell_type": "code",
   "execution_count": 22,
   "metadata": {},
   "outputs": [
    {
     "data": {
      "image/png": "[encoded data removed]",
      "text/plain": [
       "Figure(PyObject <Figure size 640x480 with 1 Axes>)"
      ]
     },
     "metadata": {},
     "output_type": "display_data"
    }
   ],
   "source": [
    "Ut(x,t) = R0*Vt(x,t)\n",
    "\n",
    "plot(x, [Ut(xi,t)[1]/rho0  for xi in x], label=\"ρ/ρ₀\")\n",
    "plot(x, [Ut(xi,t)[2]/u0  for xi in x], label=\"u/u₀\")\n",
    "plot(x, [Ut(xi,t)[3]/p0  for xi in x], label=\"p/p₀\")\n",
    "xlabel(\"x\");\n",
    "ylabel(\"U\");\n",
    "grid(true)\n",
    "legend(loc=\"lower left\");"
   ]
  },
  {
   "cell_type": "code",
   "execution_count": null,
   "metadata": {},
   "outputs": [],
   "source": []
  }
 ],
 "metadata": {
  "kernelspec": {
   "display_name": "Julia 1.0.0",
   "language": "julia",
   "name": "julia-1.0"
  },
  "language_info": {
   "file_extension": ".jl",
   "mimetype": "application/julia",
   "name": "julia",
   "version": "1.0.0"
  }
 },
 "nbformat": 4,
 "nbformat_minor": 1
}
