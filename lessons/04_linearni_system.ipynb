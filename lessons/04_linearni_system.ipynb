{
 "cells": [
  {
   "cell_type": "markdown",
   "metadata": {},
   "source": [
    "# Lineární hyperbolický systém PDR 1. řádu\n",
    "\n",
    "**Definice:**\n",
    "Systém PDR ve tvaru $U_t + A U_x = 0$, kde $U: \\mathbb R\\times\\mathbb R_+ \\to \\mathbb R^l$ a $A \\in \\mathbb R^{l,l}$ nazveme *hyperbolickým* právě tehdy, když matice $A$ má $l$ reálných vlastních čísel a $l$ lineárně nezávislých vlastních vektorů.\n",
    "\n"
   ]
  },
  {
   "cell_type": "markdown",
   "metadata": {},
   "source": [
    "## Charakteristické proměnné\n",
    "\n",
    "Splňuje-li $A$ výše uvedené podmínky, je možné ji rozložit na součin\n",
    "$$\n",
    "    A = R \\Lambda R^{-1},\n",
    "$$\n",
    "kde $\\Lambda=diag(\\lambda_1, \\lambda_2, ..., \\lambda_l)$ je diagonální matice a $R$ obsahuje ve sloupcích příslušné vlastní vektory, tj. $R=[\\vec{r}_1, \\vec{r}_2, ..., \\vec{r}_l]$. \n",
    "\n",
    "Systém pak lze přepsat jako\n",
    "$$\n",
    "U_t + R \\Lambda R^{-1} U_x = 0\n",
    "$$\n",
    "a po vynásobení maticí $R^{-1}$ zleva dostáváme\n",
    "$$\n",
    "R^{-1} U_t + R^{-1} R \\Lambda R^{-1} U_x = (R^{-1} U)_t + E \\Lambda (R^{-1} U)_x = 0.\n",
    "$$\n",
    "\n",
    "Označíme-li $V = R^{-1} U$, je původní systém ekvivalentní systému $l$ nezávislých rovnic \n",
    "$$\n",
    "    V_t + \\Lambda V_x = 0\n",
    "$$\n",
    "což je po složkách\n",
    "$$\n",
    "    \\frac{\\partial v_k}{\\partial t} + \\lambda_k \\frac{\\partial v_k}{\\partial x} = 0.\n",
    "$$\n",
    "\n",
    "**Definice:** Mějme hyperbolický systém $U_t + A U_x = 0$. Proměnné $V = R^{-1} U$, kde $R$ je matice složená z vlastních vektorů matice $A$, nazveme *cahrakteristickými proměnnými*."
   ]
  },
  {
   "cell_type": "markdown",
   "metadata": {},
   "source": [
    "## Počáteční úloha pro lineární hyperbolický systém\n",
    "\n",
    "**Definice:** Je dán hyperbolický systém $U_t + A U_x=0$ a vektorová funkce $U_0 \\in C^1(\\mathbb R \\to \\mathbb R^l)$ (počáteční podmínka). Počáteční úlohou pro tento systém s danou počáteční podmínkou budeme rozumět nalezení takové funkce $U \\in C^1( \\mathbb R\\times\\mathbb R_+ \\to \\mathbb R^l)$, že $\\forall x \\in \\mathbb R$ a $\\forall t > 0$ funkce $U$ vyhovuje danému systému a pro $t=0$ je $U(x,0)=u_0(x)$.\n",
    "\n",
    "*Poznámka:* pro případ nespojité počáteční podmínky je třeba přejít ke slabému řešení.\n",
    "\n",
    "Pro skalární problém  $v_t + \\lambda v_x=0$ umíme pomocí metody charakteristik určit řešení jako $v(x,t) = v_0(x - \\lambda t)$. Proto lze (v charakteristických proměnných) zapsat řešení počáteční úlohy jako\n",
    "$$\n",
    "    v_k(x,t) = v_k^0(x-\\lambda_k t),\n",
    "$$\n",
    "kde $v_k^0$ je $k$-tá zložka vektoru $V^ = R^{-1} U_0$ a v původních $U$ je to tedy\n",
    "$$\n",
    "    U(x,t) = \\sum_{k=1}^l \\vec{r}_k v_k(x,t) = \\sum_{k=1}^l \\vec{r}_k v_k^0(x - \\lambda_k t).\n",
    "$$\n"
   ]
  },
  {
   "cell_type": "markdown",
   "metadata": {},
   "source": [
    "## Příklad: linearizovaný systém Eulerových rovnic v 1D\n",
    "\n",
    "Nelineární systém Eulerových rovnic v 1D lze zapsat jako\n",
    "\\begin{align*}\n",
    " \\rho_t + (\\rho u)_x &= 0, \\\\\n",
    " (\\rho u)_t + (\\rho u^2 + p)_x &= 0, \\\\\n",
    " (\\rho E)_t + [(\\rho E + p) u]_x &= 0,\n",
    "\\end{align*}\n",
    "kde $\\rho$ je hustota, $u$ je rychlost, $p$ je tlak a $E$ je celková energie vztažená na kg. Pro ideální plyn je ze stavové rovnice\n",
    "$\n",
    "    p = (\\gamma-1)(\\rho E - \\frac{1}{2} \\rho u^2).\n",
    "$\n",
    "\n",
    "Předpokládáme-li, že všechny valičiny mají spojité derivace, lze systém převést na tvar\n",
    "\\begin{align*}\n",
    " \\rho_t + (\\rho u)_x &= 0, \\\\\n",
    " u_t + u u_x + \\frac{1}{\\rho} p_x &= 0, \\\\\n",
    " p_t + u p_x + \\gamma p u_x &= 0.\n",
    "\\end{align*}\n",
    "\n",
    "Systém linearizujeme ($\\rho(x,t) = \\bar{\\rho} + \\rho'(x,t)$, podobně pro $u$ a $p$) a dostáváme\n",
    "\\begin{align*}\n",
    " \\rho_t + \\bar{u} \\rho_x + \\bar{\\rho} u_x &= 0, \\\\\n",
    " u_t + \\bar{u} u_x + \\frac{1}{\\bar\\rho} p_x &= 0, \\\\\n",
    " p_t + \\gamma \\bar{p} u_x + \\bar{u} p_x &= 0.\n",
    "\\end{align*}\n",
    "\n",
    "Označme $U=[\\rho, u, p]$. Potom dostáváme systém $U_t + A U_x = 0$ s maticí\n",
    "$$\n",
    "A = \\begin{pmatrix}\n",
    "\\bar{u} & \\bar{\\rho} & 0 \\\\\n",
    "0 & \\bar{u} & 1/\\bar{\\rho} \\\\\n",
    "0 & \\gamma \\bar{p} & \\bar{u}\n",
    "\\end{pmatrix}.\n",
    "$$\n"
   ]
  },
  {
   "cell_type": "code",
   "execution_count": 20,
   "metadata": {
    "collapsed": false
   },
   "outputs": [],
   "source": [
    "from sympy import *\n",
    "init_printing(use_unicode=True)"
   ]
  },
  {
   "cell_type": "code",
   "execution_count": 21,
   "metadata": {
    "collapsed": true
   },
   "outputs": [],
   "source": [
    "rhoBar, pBar, aBar, gamma = symbols('rhoBar pBar aBar gamma', positive=True)\n",
    "uBar = symbols('uBar')"
   ]
  },
  {
   "cell_type": "code",
   "execution_count": 22,
   "metadata": {
    "collapsed": false
   },
   "outputs": [
    {
     "data": {
      "image/png": "[encoded data removed]",
      "text/latex": [
       "$$\\left[\\begin{matrix}\\bar{u} & \\bar{\\rho} & 0\\\\0 & \\bar{u} & \\frac{1}{\\bar{\\rho}}\\\\0 & \\gamma \\bar{p} & \\bar{u}\\end{matrix}\\right]$$"
      ],
      "text/plain": [
       "⎡u̅   ρ̅   0 ⎤\n",
       "⎢            ⎥\n",
       "⎢          1 ⎥\n",
       "⎢0    u̅   ──⎥\n",
       "⎢          ρ̅⎥\n",
       "⎢            ⎥\n",
       "⎣0   γ⋅p̅  u̅⎦"
      ]
     },
     "execution_count": 22,
     "metadata": {},
     "output_type": "execute_result"
    }
   ],
   "source": [
    "A = Matrix([[uBar, rhoBar, 0],[0,uBar,1/rhoBar], [0, gamma*pBar, uBar]])\n",
    "A"
   ]
  },
  {
   "cell_type": "code",
   "execution_count": 23,
   "metadata": {
    "collapsed": false
   },
   "outputs": [
    {
     "data": {
      "image/png": "[encoded data removed]",
      "text/latex": [
       "$$\\left \\{ \\bar{u} : 1, \\quad - \\frac{1}{\\sqrt{\\bar{\\rho}}} \\left(\\sqrt{\\gamma} \\sqrt{\\bar{p}} - \\sqrt{\\bar{\\rho}} \\bar{u}\\right) : 1, \\quad \\frac{1}{\\sqrt{\\bar{\\rho}}} \\left(\\sqrt{\\gamma} \\sqrt{\\bar{p}} + \\sqrt{\\bar{\\rho}} \\bar{u}\\right) : 1\\right \\}$$"
      ],
      "text/plain": [
       "⎧        ⎛     ____     ____   ⎞           ____     ____      ⎫\n",
       "⎪       -⎝√γ⋅╲╱ p̅  - ╲╱ ρ̅ ⋅u̅⎠      √γ⋅╲╱ p̅  + ╲╱ ρ̅ ⋅u̅   ⎪\n",
       "⎨u̅: 1, ─────────────────────────: 1, ─────────────────────: 1⎬\n",
       "⎪                   ____                        ____          ⎪\n",
       "⎩                 ╲╱ ρ̅                       ╲╱ ρ̅           ⎭"
      ]
     },
     "execution_count": 23,
     "metadata": {},
     "output_type": "execute_result"
    }
   ],
   "source": [
    "A.eigenvals()"
   ]
  },
  {
   "cell_type": "code",
   "execution_count": 24,
   "metadata": {
    "collapsed": false
   },
   "outputs": [
    {
     "data": {
      "image/png": "[encoded data removed]",
      "text/latex": [
       "$$\\left [ \\left ( \\bar{u}, \\quad 1, \\quad \\left [ \\left[\\begin{matrix}1\\\\0\\\\0\\end{matrix}\\right]\\right ]\\right ), \\quad \\left ( - \\frac{1}{\\sqrt{\\bar{\\rho}}} \\left(\\sqrt{\\gamma} \\sqrt{\\bar{p}} - \\sqrt{\\bar{\\rho}} \\bar{u}\\right), \\quad 1, \\quad \\left [ \\left[\\begin{matrix}\\frac{\\bar{\\rho}}{\\gamma \\bar{p}}\\\\- \\frac{1}{\\sqrt{\\gamma} \\sqrt{\\bar{p}} \\sqrt{\\bar{\\rho}}}\\\\1\\end{matrix}\\right]\\right ]\\right ), \\quad \\left ( \\frac{1}{\\sqrt{\\bar{\\rho}}} \\left(\\sqrt{\\gamma} \\sqrt{\\bar{p}} + \\sqrt{\\bar{\\rho}} \\bar{u}\\right), \\quad 1, \\quad \\left [ \\left[\\begin{matrix}\\frac{\\bar{\\rho}}{\\gamma \\bar{p}}\\\\\\frac{1}{\\sqrt{\\gamma} \\sqrt{\\bar{p}} \\sqrt{\\bar{\\rho}}}\\\\1\\end{matrix}\\right]\\right ]\\right )\\right ]$$"
      ],
      "text/plain": [
       "⎡                ⎛ ⎛     ____     ____   ⎞                          ⎞  ⎛     _\n",
       "⎢                ⎜-⎝√γ⋅╲╱ p̅  - ╲╱ ρ̅ ⋅u̅⎠      ⎡⎡       ρ̅       ⎤⎤⎟  ⎜√γ⋅╲╱ \n",
       "⎢⎛u̅, 1, ⎡⎡1⎤⎤⎞, ⎜─────────────────────────, 1, ⎢⎢      ────      ⎥⎥⎟, ⎜──────\n",
       "⎢⎜       ⎢⎢ ⎥⎥⎟  ⎜            ____              ⎢⎢      γ⋅p̅      ⎥⎥⎟  ⎜      \n",
       "⎢⎜       ⎢⎢0⎥⎥⎟  ⎜          ╲╱ ρ̅               ⎢⎢                ⎥⎥⎟  ⎜      \n",
       "⎢⎜       ⎢⎢ ⎥⎥⎟  ⎜                              ⎢⎢      -1        ⎥⎥⎟  ⎜      \n",
       "⎢⎝       ⎣⎣0⎦⎦⎠  ⎜                              ⎢⎢────────────────⎥⎥⎟  ⎜      \n",
       "⎢                ⎜                              ⎢⎢     ____   ____⎥⎥⎟  ⎜      \n",
       "⎢                ⎜                              ⎢⎢√γ⋅╲╱ p̅ ⋅╲╱ ρ̅ ⎥⎥⎟  ⎜      \n",
       "⎢                ⎜                              ⎢⎢                ⎥⎥⎟  ⎜      \n",
       "⎣                ⎝                              ⎣⎣       1        ⎦⎦⎠  ⎝      \n",
       "\n",
       "___     ____                            ⎞⎤\n",
       "p̅  + ╲╱ ρ̅ ⋅u̅     ⎡⎡       ρ̅       ⎤⎤⎟⎥\n",
       "───────────────, 1, ⎢⎢      ────      ⎥⎥⎟⎥\n",
       "    ____            ⎢⎢      γ⋅p̅      ⎥⎥⎟⎥\n",
       "  ╲╱ ρ̅             ⎢⎢                ⎥⎥⎟⎥\n",
       "                    ⎢⎢       1        ⎥⎥⎟⎥\n",
       "                    ⎢⎢────────────────⎥⎥⎟⎥\n",
       "                    ⎢⎢     ____   ____⎥⎥⎟⎥\n",
       "                    ⎢⎢√γ⋅╲╱ p̅ ⋅╲╱ ρ̅ ⎥⎥⎟⎥\n",
       "                    ⎢⎢                ⎥⎥⎟⎥\n",
       "                    ⎣⎣       1        ⎦⎦⎠⎦"
      ]
     },
     "execution_count": 24,
     "metadata": {},
     "output_type": "execute_result"
    }
   ],
   "source": [
    "A.eigenvects()"
   ]
  },
  {
   "cell_type": "code",
   "execution_count": 25,
   "metadata": {
    "collapsed": false
   },
   "outputs": [],
   "source": [
    "eigen=A.eigenvects();\n",
    "lambda_1 = eigen[0][0]\n",
    "lambda_2 = simplify(eigen[1][0].subs(gamma,rhoBar*aBar**2/pBar))\n",
    "lambda_3 = simplify(eigen[2][0].subs(gamma,rhoBar*aBar**2/pBar))"
   ]
  },
  {
   "cell_type": "code",
   "execution_count": 26,
   "metadata": {
    "collapsed": false
   },
   "outputs": [
    {
     "data": {
      "image/png": "[encoded data removed]",
      "text/latex": [
       "$$\\left ( \\bar{u}, \\quad - \\bar{a} + \\bar{u}, \\quad \\bar{a} + \\bar{u}\\right )$$"
      ],
      "text/plain": [
       "(u̅, -a̅ + u̅, a̅ + u̅)"
      ]
     },
     "execution_count": 26,
     "metadata": {},
     "output_type": "execute_result"
    }
   ],
   "source": [
    "lambda_1, lambda_2, lambda_3"
   ]
  },
  {
   "cell_type": "code",
   "execution_count": 27,
   "metadata": {
    "collapsed": false
   },
   "outputs": [
    {
     "data": {
      "image/png": "[encoded data removed]",
      "text/latex": [
       "$$\\left[\\begin{matrix}1 & \\frac{1}{2 \\bar{a}^{2}} & \\frac{1}{2 \\bar{a}^{2}}\\\\0 & - \\frac{1}{2 \\bar{a} \\bar{\\rho}} & \\frac{1}{2 \\bar{a} \\bar{\\rho}}\\\\0 & \\frac{1}{2} & \\frac{1}{2}\\end{matrix}\\right]$$"
      ],
      "text/plain": [
       "⎡      1        1   ⎤\n",
       "⎢1   ─────    ───── ⎥\n",
       "⎢        2        2 ⎥\n",
       "⎢    2⋅a̅     2⋅a̅  ⎥\n",
       "⎢                   ⎥\n",
       "⎢     -1        1   ⎥\n",
       "⎢0  ───────  ───────⎥\n",
       "⎢   2⋅a̅⋅ρ̅  2⋅a̅⋅ρ̅⎥\n",
       "⎢                   ⎥\n",
       "⎣0    1/2      1/2  ⎦"
      ]
     },
     "execution_count": 27,
     "metadata": {},
     "output_type": "execute_result"
    }
   ],
   "source": [
    "r_1 = eigen[0][2][0]\n",
    "r_2 = eigen[1][2][0].subs(gamma,rhoBar*aBar**2/pBar)\n",
    "r_3 = eigen[2][2][0].subs(gamma,rhoBar*aBar**2/pBar)\n",
    "\n",
    "f = Rational(1,2)\n",
    "R = Matrix([r_1.T, f*r_2.T, f*r_3.T]).T\n",
    "R"
   ]
  },
  {
   "cell_type": "code",
   "execution_count": 28,
   "metadata": {
    "collapsed": false
   },
   "outputs": [
    {
     "data": {
      "image/png": "[encoded data removed]",
      "text/latex": [
       "$$\\left[\\begin{matrix}1 & 0 & - \\frac{1}{\\bar{a}^{2}}\\\\0 & - \\bar{a} \\bar{\\rho} & 1\\\\0 & \\bar{a} \\bar{\\rho} & 1\\end{matrix}\\right]$$"
      ],
      "text/plain": [
       "⎡           -1 ⎤\n",
       "⎢1    0     ───⎥\n",
       "⎢             2⎥\n",
       "⎢           a̅ ⎥\n",
       "⎢              ⎥\n",
       "⎢0  -a̅⋅ρ̅   1 ⎥\n",
       "⎢              ⎥\n",
       "⎣0  a̅⋅ρ̅    1 ⎦"
      ]
     },
     "execution_count": 28,
     "metadata": {},
     "output_type": "execute_result"
    }
   ],
   "source": [
    "R1 = R.inv()\n",
    "R1"
   ]
  },
  {
   "cell_type": "code",
   "execution_count": 29,
   "metadata": {
    "collapsed": true
   },
   "outputs": [],
   "source": [
    "rho, u, p = symbols('rho u p')"
   ]
  },
  {
   "cell_type": "code",
   "execution_count": 30,
   "metadata": {
    "collapsed": false
   },
   "outputs": [
    {
     "data": {
      "image/png": "[encoded data removed]",
      "text/latex": [
       "$$\\left[\\begin{matrix}\\rho\\\\u\\\\p\\end{matrix}\\right]$$"
      ],
      "text/plain": [
       "⎡ρ⎤\n",
       "⎢ ⎥\n",
       "⎢u⎥\n",
       "⎢ ⎥\n",
       "⎣p⎦"
      ]
     },
     "execution_count": 30,
     "metadata": {},
     "output_type": "execute_result"
    }
   ],
   "source": [
    "U=Matrix([rho, u, p])\n",
    "U"
   ]
  },
  {
   "cell_type": "code",
   "execution_count": 31,
   "metadata": {
    "collapsed": false
   },
   "outputs": [
    {
     "data": {
      "image/png": "[encoded data removed]",
      "text/latex": [
       "$$\\left[\\begin{matrix}\\rho - \\frac{p}{\\bar{a}^{2}}\\\\- \\bar{a} \\bar{\\rho} u + p\\\\\\bar{a} \\bar{\\rho} u + p\\end{matrix}\\right]$$"
      ],
      "text/plain": [
       "⎡       p    ⎤\n",
       "⎢  ρ - ───   ⎥\n",
       "⎢        2   ⎥\n",
       "⎢      a̅    ⎥\n",
       "⎢            ⎥\n",
       "⎢-a̅⋅ρ̅⋅u + p⎥\n",
       "⎢            ⎥\n",
       "⎣a̅⋅ρ̅⋅u + p ⎦"
      ]
     },
     "execution_count": 31,
     "metadata": {},
     "output_type": "execute_result"
    }
   ],
   "source": [
    "V = R1 * U\n",
    "V"
   ]
  },
  {
   "cell_type": "markdown",
   "metadata": {},
   "source": [
    "#### Šíření poruchy pro případ linearizovaných Eulerových rovnic\n",
    "\n",
    "* analytické rešení"
   ]
  },
  {
   "cell_type": "code",
   "execution_count": 13,
   "metadata": {
    "collapsed": false
   },
   "outputs": [
    {
     "data": {
      "image/png": "[encoded data removed]",
      "text/plain": [
       "<matplotlib.figure.Figure at 0x7f15b5190470>"
      ]
     },
     "metadata": {},
     "output_type": "display_data"
    }
   ],
   "source": [
    "import math\n",
    "from numpy import *\n",
    "import matplotlib.pyplot as plt\n",
    "%matplotlib inline\n",
    "\n",
    "# Hodnoty velicin v nerozrusenem proudu\n",
    "rho0   = 1.2\n",
    "a0     = 340.0\n",
    "u0     = 100.0\n",
    "gamma0 = 1.4\n",
    "p0  = rho0 * a0**2 / gamma0\n",
    "\n",
    "def U0(x):\n",
    "    U = array([rho0, u0, p0])\n",
    "    if abs(x) < math.pi:\n",
    "        U[2] += (math.cos(x)+1) * 0.1*p0\n",
    "    return U\n",
    "\n",
    "x=linspace(-20,20,200)\n",
    "plt.plot(x, [U0(xi)[0]/rho0  for xi in x], label=r\"$\\rho/\\rho_0$\")\n",
    "plt.plot(x, [U0(xi)[1]/u0 for xi in x], label=r\"$u/u_0$\")\n",
    "plt.plot(x, [U0(xi)[2]/p0 for xi in x], label=r\"$p/p_0$\")\n",
    "plt.ylim(0,2); plt.xlabel(\"x\");\n",
    "plt.ylabel(\"U\")\n",
    "plt.legend(loc=\"lower left\");"
   ]
  },
  {
   "cell_type": "code",
   "execution_count": 14,
   "metadata": {
    "collapsed": false
   },
   "outputs": [],
   "source": [
    "R0=matrix([[1,0,0],[0.5/a0**2,-0.5/a0/rho0, 0.5],[0.5/a0**2,0.5/a0/rho0, 0.5]]).T"
   ]
  },
  {
   "cell_type": "code",
   "execution_count": 15,
   "metadata": {
    "collapsed": false
   },
   "outputs": [],
   "source": [
    "R01=linalg.inv(R0)\n",
    "l0 = [u0, u0-a0, u0+a0]"
   ]
  },
  {
   "cell_type": "code",
   "execution_count": 16,
   "metadata": {
    "collapsed": false
   },
   "outputs": [],
   "source": [
    "def V0(x):\n",
    "    return dot(R01, U0(x))"
   ]
  },
  {
   "cell_type": "code",
   "execution_count": 17,
   "metadata": {
    "collapsed": false
   },
   "outputs": [
    {
     "data": {
      "image/png": "[encoded data removed]",
      "text/plain": [
       "<matplotlib.figure.Figure at 0x7f15a45143c8>"
      ]
     },
     "metadata": {},
     "output_type": "display_data"
    }
   ],
   "source": [
    "plt.plot(x, [V0(xi)[0,0]  for xi in x], \"-b\")\n",
    "plt.plot(x, [V0(xi)[0,1]/1e5  for xi in x], \"-r\")\n",
    "plt.plot(x, [V0(xi)[0,2]/1e5  for xi in x], \"-g\")\n",
    "plt.ylim(0,2)\n",
    "plt.xlabel(\"x\");\n",
    "plt.ylabel(\"V\");"
   ]
  },
  {
   "cell_type": "code",
   "execution_count": 18,
   "metadata": {
    "collapsed": false
   },
   "outputs": [
    {
     "data": {
      "image/png": "[encoded data removed]",
      "text/plain": [
       "<matplotlib.figure.Figure at 0x7f15a4542518>"
      ]
     },
     "metadata": {},
     "output_type": "display_data"
    }
   ],
   "source": [
    "def V(x,t):\n",
    "    return array([V0(x-l0[0]*t)[0,0], V0(x-l0[1]*t)[0,1], V0(x-l0[2]*t)[0,2]])\n",
    "\n",
    "t=0.025\n",
    "\n",
    "plt.plot(x, [V(xi,t)[0]  for xi in x], \"-b\")\n",
    "plt.plot(x, [V(xi,t)[1]/1e5  for xi in x], \"-r\")\n",
    "plt.plot(x, [V(xi,t)[2]/1e5  for xi in x], \"-g\")\n",
    "plt.ylim(0,2)\n",
    "plt.grid(True)\n",
    "plt.xlabel(\"x\");\n",
    "plt.ylabel(\"V\");"
   ]
  },
  {
   "cell_type": "code",
   "execution_count": 19,
   "metadata": {
    "collapsed": false
   },
   "outputs": [
    {
     "data": {
      "image/png": "[encoded data removed]",
      "text/plain": [
       "<matplotlib.figure.Figure at 0x7f15a44ef470>"
      ]
     },
     "metadata": {},
     "output_type": "display_data"
    }
   ],
   "source": [
    "def U(x,t):\n",
    "    return dot(R0, V(x,t))\n",
    "\n",
    "plt.plot(x, [U(xi,t)[0,0]/rho0  for xi in x], label=r\"$\\rho/\\rho_0$\")\n",
    "plt.plot(x, [U(xi,t)[0,1]/u0  for xi in x], label=r\"$u/u_0$\")\n",
    "plt.plot(x, [U(xi,t)[0,2]/p0  for xi in x], label=r\"$p/p_0$\")\n",
    "plt.xlabel(\"x\");\n",
    "plt.ylabel(\"U\");\n",
    "plt.grid(True)\n",
    "plt.legend(loc=\"lower left\");"
   ]
  }
 ],
 "metadata": {
  "kernelspec": {
   "display_name": "Python 3",
   "language": "python",
   "name": "python3"
  },
  "language_info": {
   "codemirror_mode": {
    "name": "ipython",
    "version": 3
   },
   "file_extension": ".py",
   "mimetype": "text/x-python",
   "name": "python",
   "nbconvert_exporter": "python",
   "pygments_lexer": "ipython3",
   "version": "3.4.5"
  }
 },
 "nbformat": 4,
 "nbformat_minor": 0
}
